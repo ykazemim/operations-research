{
  "nbformat": 4,
  "nbformat_minor": 0,
  "metadata": {
    "colab": {
      "provenance": []
    },
    "kernelspec": {
      "name": "python3",
      "display_name": "Python 3"
    },
    "language_info": {
      "name": "python"
    }
  },
  "cells": [
    {
      "cell_type": "code",
      "execution_count": null,
      "metadata": {
        "id": "nMqKdnJpcKKu"
      },
      "outputs": [],
      "source": [
        "!pip install -q pyomo\n",
        "!apt-get install -y -qq glpk-utils"
      ]
    },
    {
      "cell_type": "code",
      "source": [
        "from pyomo.environ import *\n",
        "\n",
        "# Create model\n",
        "model = ConcreteModel()\n",
        "\n",
        "# Define sets\n",
        "I = [1, 2, 3, 4]  # Set I\n",
        "T = [1, 2, 3, 4]  # Set T\n",
        "\n",
        "# Define variables\n",
        "model.x = Var(I, T, within=NonNegativeReals)\n",
        "model.y = Var(I, T, within=NonNegativeReals)\n",
        "\n",
        "# Objective function\n",
        "model.obj = Objective(\n",
        "    expr=sum(250 * model.x[2, t] for t in T) +\n",
        "         sum(510 * model.x[3, t] for t in T) +\n",
        "         sum(700 * model.x[4, t] for t in T),\n",
        "    sense=maximize\n",
        ")\n",
        "\n",
        "# Constraints\n",
        "model.constraints = ConstraintList()\n",
        "\n",
        "model.constraints.add(model.x[1, 1] + model.y[1, 1] == 8000)\n",
        "model.constraints.add(model.x[2, 1] + model.y[2, 1] == 10000)\n",
        "model.constraints.add(model.x[3, 1] + model.y[3, 1] == 20000)\n",
        "model.constraints.add(model.x[4, 1] + model.y[4, 1] == 60000)\n",
        "model.constraints.add(model.y[3, 4] == 10000)\n",
        "model.constraints.add(model.y[4, 4] == 40000)\n",
        "\n",
        "for i in [2, 3]:\n",
        "    for t in [2, 3, 4]:\n",
        "        model.constraints.add(model.x[i, t] + model.y[i, t] == model.y[i-1, t-1])\n",
        "\n",
        "for t in [2, 3, 4]:\n",
        "    model.constraints.add(model.x[4, t] + model.y[4, t] == model.y[3, t-1] + model.y[4, t-1])\n",
        "\n",
        "for t in [2, 3, 4]:\n",
        "    model.constraints.add(model.x[1, t] + model.y[1, t] == sum(model.x[i, t-1] for i in I))\n",
        "\n",
        "solver = SolverFactory('glpk')\n",
        "result = solver.solve(model, tee=False)\n",
        "\n",
        "# Display the results\n",
        "model.display()\n",
        "\n",
        "# print(\"Optimal Solution:\")\n",
        "# for i in I:\n",
        "#     for t in T:\n",
        "#         print(f\"x[{i},{t}] =\", model.x[i, t].value)\n",
        "#         print(f\"y[{i},{t}] =\", model.y[i, t].value)\n"
      ],
      "metadata": {
        "colab": {
          "base_uri": "https://localhost:8080/"
        },
        "id": "mOkUPHwGcal1",
        "outputId": "f448ad6c-81bb-435e-bbc2-377586e6268d"
      },
      "execution_count": 9,
      "outputs": [
        {
          "output_type": "stream",
          "name": "stdout",
          "text": [
            "Model unknown\n",
            "\n",
            "  Variables:\n",
            "    x : Size=16, Index={1, 2, 3, 4}*{1, 2, 3, 4}\n",
            "        Key    : Lower : Value   : Upper : Fixed : Stale : Domain\n",
            "        (1, 1) :     0 :     0.0 :  None : False : False : NonNegativeReals\n",
            "        (1, 2) :     0 :     0.0 :  None : False : False : NonNegativeReals\n",
            "        (1, 3) :     0 :     0.0 :  None : False : False : NonNegativeReals\n",
            "        (1, 4) :     0 :     0.0 :  None : False : False : NonNegativeReals\n",
            "        (2, 1) :     0 :     0.0 :  None : False : False : NonNegativeReals\n",
            "        (2, 2) :     0 :     0.0 :  None : False : False : NonNegativeReals\n",
            "        (2, 3) :     0 :     0.0 :  None : False : False : NonNegativeReals\n",
            "        (2, 4) :     0 :     0.0 :  None : False : False : NonNegativeReals\n",
            "        (3, 1) :     0 :     0.0 :  None : False : False : NonNegativeReals\n",
            "        (3, 2) :     0 :     0.0 :  None : False : False : NonNegativeReals\n",
            "        (3, 3) :     0 :     0.0 :  None : False : False : NonNegativeReals\n",
            "        (3, 4) :     0 : 48000.0 :  None : False : False : NonNegativeReals\n",
            "        (4, 1) :     0 : 58000.0 :  None : False : False : NonNegativeReals\n",
            "        (4, 2) :     0 :     0.0 :  None : False : False : NonNegativeReals\n",
            "        (4, 3) :     0 :     0.0 :  None : False : False : NonNegativeReals\n",
            "        (4, 4) :     0 :     0.0 :  None : False : False : NonNegativeReals\n",
            "    y : Size=16, Index={1, 2, 3, 4}*{1, 2, 3, 4}\n",
            "        Key    : Lower : Value   : Upper : Fixed : Stale : Domain\n",
            "        (1, 1) :     0 :  8000.0 :  None : False : False : NonNegativeReals\n",
            "        (1, 2) :     0 : 58000.0 :  None : False : False : NonNegativeReals\n",
            "        (1, 3) :     0 :     0.0 :  None : False : False : NonNegativeReals\n",
            "        (1, 4) :     0 :     0.0 :  None : False : False : NonNegativeReals\n",
            "        (2, 1) :     0 : 10000.0 :  None : False : False : NonNegativeReals\n",
            "        (2, 2) :     0 :  8000.0 :  None : False : False : NonNegativeReals\n",
            "        (2, 3) :     0 : 58000.0 :  None : False : False : NonNegativeReals\n",
            "        (2, 4) :     0 :     0.0 :  None : False : False : NonNegativeReals\n",
            "        (3, 1) :     0 : 20000.0 :  None : False : False : NonNegativeReals\n",
            "        (3, 2) :     0 : 10000.0 :  None : False : False : NonNegativeReals\n",
            "        (3, 3) :     0 :  8000.0 :  None : False : False : NonNegativeReals\n",
            "        (3, 4) :     0 : 10000.0 :  None : False : False : NonNegativeReals\n",
            "        (4, 1) :     0 :  2000.0 :  None : False : False : NonNegativeReals\n",
            "        (4, 2) :     0 : 22000.0 :  None : False : False : NonNegativeReals\n",
            "        (4, 3) :     0 : 32000.0 :  None : False : False : NonNegativeReals\n",
            "        (4, 4) :     0 : 40000.0 :  None : False : False : NonNegativeReals\n",
            "\n",
            "  Objectives:\n",
            "    obj : Size=1, Index=None, Active=True\n",
            "        Key  : Active : Value\n",
            "        None :   True : 65080000.0\n",
            "\n",
            "  Constraints:\n",
            "    constraints : Size=18\n",
            "        Key : Lower   : Body    : Upper\n",
            "          1 :  8000.0 :  8000.0 :  8000.0\n",
            "          2 : 10000.0 : 10000.0 : 10000.0\n",
            "          3 : 20000.0 : 20000.0 : 20000.0\n",
            "          4 : 60000.0 : 60000.0 : 60000.0\n",
            "          5 : 10000.0 : 10000.0 : 10000.0\n",
            "          6 : 40000.0 : 40000.0 : 40000.0\n",
            "          7 :     0.0 :     0.0 :     0.0\n",
            "          8 :     0.0 :     0.0 :     0.0\n",
            "          9 :     0.0 :     0.0 :     0.0\n",
            "         10 :     0.0 :     0.0 :     0.0\n",
            "         11 :     0.0 :     0.0 :     0.0\n",
            "         12 :     0.0 :     0.0 :     0.0\n",
            "         13 :     0.0 :     0.0 :     0.0\n",
            "         14 :     0.0 :     0.0 :     0.0\n",
            "         15 :     0.0 :     0.0 :     0.0\n",
            "         16 :     0.0 :     0.0 :     0.0\n",
            "         17 :     0.0 :     0.0 :     0.0\n",
            "         18 :     0.0 :     0.0 :     0.0\n"
          ]
        }
      ]
    }
  ]
}