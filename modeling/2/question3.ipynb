{
  "nbformat": 4,
  "nbformat_minor": 0,
  "metadata": {
    "colab": {
      "provenance": []
    },
    "kernelspec": {
      "name": "python3",
      "display_name": "Python 3"
    },
    "language_info": {
      "name": "python"
    }
  },
  "cells": [
    {
      "cell_type": "code",
      "execution_count": null,
      "metadata": {
        "id": "b8-52pDYxbZN"
      },
      "outputs": [],
      "source": [
        "!pip install -q pyomo\n",
        "!apt-get install -y -qq glpk-utils"
      ]
    },
    {
      "cell_type": "markdown",
      "source": [
        "# Part B"
      ],
      "metadata": {
        "id": "86wHjZqIAARW"
      }
    },
    {
      "cell_type": "code",
      "source": [
        "import pyomo.environ as pyo\n",
        "\n",
        "# Create a model\n",
        "model = pyo.ConcreteModel()\n",
        "\n",
        "# Define the variables\n",
        "model.x1 = pyo.Var(within=pyo.Reals)\n",
        "model.x2 = pyo.Var(within=pyo.NonNegativeReals)\n",
        "\n",
        "# Define the objective function\n",
        "model.obj = pyo.Objective(expr=2*model.x1 + model.x2, sense=pyo.minimize)\n",
        "\n",
        "# Define the constraint\n",
        "model.constraint = pyo.Constraint(expr=-model.x1 + 3*model.x2 >= 6)\n",
        "\n",
        "solver = pyo.SolverFactory('glpk')\n",
        "result = solver.solve(model)\n",
        "\n",
        "print(result)\n",
        "\n",
        "# Display the results\n",
        "model.display()\n",
        "\n",
        "# Display the results\n",
        "# print(f\"x1 = {model.x1()}\")\n",
        "# print(f\"x2 = {model.x2()}\")\n",
        "# print(f\"Objective value z = {model.obj()}\")\n"
      ],
      "metadata": {
        "colab": {
          "base_uri": "https://localhost:8080/"
        },
        "id": "3OquvdHt__LZ",
        "outputId": "5fc5efff-b6a2-4b61-9968-b441d9fb30a6"
      },
      "execution_count": 2,
      "outputs": [
        {
          "output_type": "stream",
          "name": "stderr",
          "text": [
            "ERROR:pyomo.common.numeric_types:evaluating object as numeric value: x1\n",
            "    (object: <class 'pyomo.core.base.var.ScalarVar'>)\n",
            "No value for uninitialized NumericValue object x1\n",
            "ERROR:pyomo.common.numeric_types:evaluating object as numeric value: obj\n",
            "    (object: <class 'pyomo.core.base.objective.ScalarObjective'>)\n",
            "No value for uninitialized NumericValue object x1\n"
          ]
        },
        {
          "output_type": "stream",
          "name": "stdout",
          "text": [
            "\n",
            "Problem: \n",
            "- Name: unknown\n",
            "  Lower bound: -inf\n",
            "  Upper bound: inf\n",
            "  Number of objectives: 1\n",
            "  Number of constraints: 1\n",
            "  Number of variables: 2\n",
            "  Number of nonzeros: 2\n",
            "  Sense: minimize\n",
            "Solver: \n",
            "- Status: ok\n",
            "  Termination condition: unbounded\n",
            "  Statistics: \n",
            "    Branch and bound: \n",
            "      Number of bounded subproblems: 0\n",
            "      Number of created subproblems: 0\n",
            "  Error rc: 0\n",
            "  Time: 0.007528543472290039\n",
            "\n",
            "Model unknown\n",
            "\n",
            "  Variables:\n",
            "    x1 : Size=1, Index=None\n",
            "        Key  : Lower : Value : Upper : Fixed : Stale : Domain\n",
            "        None :  None :  None :  None : False :  True :  Reals\n",
            "    x2 : Size=1, Index=None\n",
            "        Key  : Lower : Value : Upper : Fixed : Stale : Domain\n",
            "        None :     0 :  None :  None : False :  True : NonNegativeReals\n",
            "\n",
            "  Objectives:\n",
            "    obj : Size=1, Index=None, Active=True\n",
            "        Key : Active : Value\n",
            "        None :   None :  None\n",
            "\n",
            "  Constraints:\n",
            "    constraint : Size=1\n",
            "        Key  : Lower : Body : Upper\n",
            "        None :   6.0 : None :  None\n"
          ]
        }
      ]
    },
    {
      "cell_type": "markdown",
      "source": [
        "# Part C"
      ],
      "metadata": {
        "id": "0ZjHU7cgAYIB"
      }
    },
    {
      "cell_type": "code",
      "source": [
        "import pyomo.environ as pyo\n",
        "\n",
        "# Create a model\n",
        "model = pyo.ConcreteModel()\n",
        "\n",
        "# Define the variables\n",
        "model.x1 = pyo.Var(within=pyo.Reals)\n",
        "model.x2 = pyo.Var(within=pyo.NonNegativeReals)\n",
        "\n",
        "# Define the objective function\n",
        "model.obj = pyo.Objective(expr=2*model.x1 + model.x2, sense=pyo.minimize)\n",
        "\n",
        "# Define the constraint\n",
        "model.constraint1 = pyo.Constraint(expr=-model.x1 + 3*model.x2 >= 6)\n",
        "model.constraint2 = pyo.Constraint(expr=2*model.x1 + model.x2 >= 2)\n",
        "\n",
        "solver = pyo.SolverFactory('glpk')\n",
        "result = solver.solve(model)\n",
        "\n",
        "print(result)\n",
        "\n",
        "# Display the results\n",
        "model.display()\n",
        "\n",
        "# Display the results\n",
        "# print(f\"x1 = {model.x1()}\")\n",
        "# print(f\"x2 = {model.x2()}\")\n",
        "# print(f\"Objective value z = {model.obj()}\")\n"
      ],
      "metadata": {
        "colab": {
          "base_uri": "https://localhost:8080/"
        },
        "outputId": "24b86fa6-ab5b-4546-b7fe-c79931eb66e5",
        "id": "2DI7jCQsAdkl"
      },
      "execution_count": 3,
      "outputs": [
        {
          "output_type": "stream",
          "name": "stdout",
          "text": [
            "\n",
            "Problem: \n",
            "- Name: unknown\n",
            "  Lower bound: 2.0\n",
            "  Upper bound: 2.0\n",
            "  Number of objectives: 1\n",
            "  Number of constraints: 2\n",
            "  Number of variables: 2\n",
            "  Number of nonzeros: 4\n",
            "  Sense: minimize\n",
            "Solver: \n",
            "- Status: ok\n",
            "  Termination condition: optimal\n",
            "  Statistics: \n",
            "    Branch and bound: \n",
            "      Number of bounded subproblems: 0\n",
            "      Number of created subproblems: 0\n",
            "  Error rc: 0\n",
            "  Time: 0.004003763198852539\n",
            "Solution: \n",
            "- number of solutions: 0\n",
            "  number of solutions displayed: 0\n",
            "\n",
            "Model unknown\n",
            "\n",
            "  Variables:\n",
            "    x1 : Size=1, Index=None\n",
            "        Key  : Lower : Value : Upper : Fixed : Stale : Domain\n",
            "        None :  None :   0.0 :  None : False : False :  Reals\n",
            "    x2 : Size=1, Index=None\n",
            "        Key  : Lower : Value : Upper : Fixed : Stale : Domain\n",
            "        None :     0 :   2.0 :  None : False : False : NonNegativeReals\n",
            "\n",
            "  Objectives:\n",
            "    obj : Size=1, Index=None, Active=True\n",
            "        Key  : Active : Value\n",
            "        None :   True :   2.0\n",
            "\n",
            "  Constraints:\n",
            "    constraint1 : Size=1\n",
            "        Key  : Lower : Body : Upper\n",
            "        None :   6.0 :  6.0 :  None\n",
            "    constraint2 : Size=1\n",
            "        Key  : Lower : Body : Upper\n",
            "        None :   2.0 :  2.0 :  None\n"
          ]
        }
      ]
    }
  ]
}