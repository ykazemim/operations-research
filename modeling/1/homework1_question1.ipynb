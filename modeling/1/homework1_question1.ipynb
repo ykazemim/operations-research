{
  "nbformat": 4,
  "nbformat_minor": 0,
  "metadata": {
    "colab": {
      "provenance": []
    },
    "kernelspec": {
      "name": "python3",
      "display_name": "Python 3"
    },
    "language_info": {
      "name": "python"
    }
  },
  "cells": [
    {
      "cell_type": "markdown",
      "source": [
        "# Question 1\n",
        "An airport needs to schedule flights for two airlines, A and B, for a specific day. Each flight requires a certain number of gates to operate. The total number of gates at the airport is 10. Each flight for airline A occupies 2 gates, and each flight for airline B occupies 1 gate. The operating hours of the airport are as follows:  \n",
        "\n",
        "- Time Slot 1: 00:00 to 02:00  \n",
        "- Time Slot 2: 02:00 to 04:00  \n",
        "- Time Slot 3: 04:00 to 06:00  \n",
        "- Time Slot 4: 06:00 to 08:00  \n",
        "- Time Slot 5: 08:00 to 10:00  \n",
        "- Time Slot 6: 10:00 to 12:00  \n",
        "- Time Slot 7: 12:00 to 14:00  \n",
        "- Time Slot 8: 14:00 to 16:00  \n",
        "- Time Slot 9: 16:00 to 18:00  \n",
        "- Time Slot 10: 18:00 to 20:00  \n",
        "- Time Slot 11: 20:00 to 22:00  \n",
        "- Time Slot 12: 22:00 to 24:00  \n",
        "\n",
        "In total, at least 30% of the airport’s flights should be allocated to airline B. For each flight of airline 𝑖 during time slot 𝑗, the airport earns a profit of c(𝑖,𝑗) dollars. (where 𝑖 ∈ {A, B}, 𝑗 ∈ {1, 2, … , 12})  \n",
        "\n",
        "The goal is to determine how many flights should be allocated to each airline in each time slot to maximize the airport's profit.\n"
      ],
      "metadata": {
        "id": "i8RlbnJExxI3"
      }
    },
    {
      "cell_type": "code",
      "execution_count": null,
      "metadata": {
        "id": "SdHYVGDfxPl7"
      },
      "outputs": [],
      "source": [
        "!pip install -q pyomo\n",
        "!apt-get install -y -qq glpk-utils"
      ]
    },
    {
      "cell_type": "code",
      "source": [
        "import pyomo.environ as pyo\n",
        "\n",
        "\n",
        "# Create model\n",
        "model = pyo.ConcreteModel()\n",
        "\n",
        "\n",
        "# Define sets for indices\n",
        "model.I = pyo.RangeSet(1, 2)   # i ranges from 1 to 2 representing A and B\n",
        "model.J = pyo.RangeSet(1, 12)  # j ranges from 1 to 12\n",
        "\n",
        "\n",
        "# Define parameters c(i, j)\n",
        "c_values = {\n",
        "    (1,1): 10,  (1,2): 40,  (1,3): 90,  (1,4): 120, (1,5): 50,  (1,6): 70,\n",
        "    (1,7): 200, (1,8): 150, (1,9): 30,  (1,10): 80, (1,11): 60, (1,12): 130,\n",
        "    (2,1): 20,  (2,2): 90,  (2,3): 110, (2,4): 50,  (2,5): 80,  (2,6): 100,\n",
        "    (2,7): 180, (2,8): 140, (2,9): 40,  (2,10): 110, (2,11): 70, (2,12): 190\n",
        "}\n",
        "model.c = pyo.Param(model.I, model.J, initialize=c_values, mutable=True)\n",
        "\n",
        "\n",
        "# Define decision variables x(i, j) as positive integers\n",
        "model.x = pyo.Var(model.I, model.J, domain=pyo.NonNegativeIntegers)\n",
        "\n",
        "\n",
        "# Define the objective function\n",
        "def obj_rule(model):\n",
        "    return sum(model.c[i, j] * model.x[i, j] for i in model.I for j in model.J)\n",
        "\n",
        "\n",
        "# Add the objective function to the model\n",
        "model.obj = pyo.Objective(rule=obj_rule, sense=pyo.maximize)\n",
        "\n",
        "\n",
        "# Define the constraints functions\n",
        "def const1_rule(model, j):\n",
        "    return 2 * model.x[1, j] + model.x[2, j] <= 10\n",
        "\n",
        "def const2_rule(model):\n",
        "    return sum(model.x[2, j] for j in model.J) >= 0.3 * sum(model.x[i, j] for i in model.I for j in model.J)\n",
        "\n",
        "\n",
        "# Add the constraints to the model\n",
        "model.const1 = pyo.Constraint(model.J, rule=const1_rule)\n",
        "model.const2 = pyo.Constraint(rule=const2_rule)\n",
        "\n",
        "\n",
        "# Create a solver and solve the model\n",
        "solver = pyo.SolverFactory('glpk')\n",
        "solution = solver.solve(model, tee=False)\n",
        "\n",
        "\n",
        "# Display the results\n",
        "model.display()\n",
        "\n",
        "# Print variables manually\n",
        "# for i in model.I:\n",
        "#     for j in model.J:\n",
        "#         print(f\"x({i},{j}) = {model.x[i,j].value}\")"
      ],
      "metadata": {
        "id": "E8B960dLXMGV",
        "colab": {
          "base_uri": "https://localhost:8080/"
        },
        "outputId": "a6e86dfc-2017-486c-f119-53136f6aeac0"
      },
      "execution_count": 5,
      "outputs": [
        {
          "output_type": "stream",
          "name": "stdout",
          "text": [
            "Model unknown\n",
            "\n",
            "  Variables:\n",
            "    x : Size=24, Index=I*J\n",
            "        Key     : Lower : Value : Upper : Fixed : Stale : Domain\n",
            "         (1, 1) :     0 :   0.0 :  None : False : False : NonNegativeIntegers\n",
            "         (1, 2) :     0 :   0.0 :  None : False : False : NonNegativeIntegers\n",
            "         (1, 3) :     0 :   0.0 :  None : False : False : NonNegativeIntegers\n",
            "         (1, 4) :     0 :   5.0 :  None : False : False : NonNegativeIntegers\n",
            "         (1, 5) :     0 :   0.0 :  None : False : False : NonNegativeIntegers\n",
            "         (1, 6) :     0 :   0.0 :  None : False : False : NonNegativeIntegers\n",
            "         (1, 7) :     0 :   0.0 :  None : False : False : NonNegativeIntegers\n",
            "         (1, 8) :     0 :   0.0 :  None : False : False : NonNegativeIntegers\n",
            "         (1, 9) :     0 :   0.0 :  None : False : False : NonNegativeIntegers\n",
            "        (1, 10) :     0 :   0.0 :  None : False : False : NonNegativeIntegers\n",
            "        (1, 11) :     0 :   0.0 :  None : False : False : NonNegativeIntegers\n",
            "        (1, 12) :     0 :   0.0 :  None : False : False : NonNegativeIntegers\n",
            "         (2, 1) :     0 :  10.0 :  None : False : False : NonNegativeIntegers\n",
            "         (2, 2) :     0 :  10.0 :  None : False : False : NonNegativeIntegers\n",
            "         (2, 3) :     0 :  10.0 :  None : False : False : NonNegativeIntegers\n",
            "         (2, 4) :     0 :   0.0 :  None : False : False : NonNegativeIntegers\n",
            "         (2, 5) :     0 :  10.0 :  None : False : False : NonNegativeIntegers\n",
            "         (2, 6) :     0 :  10.0 :  None : False : False : NonNegativeIntegers\n",
            "         (2, 7) :     0 :  10.0 :  None : False : False : NonNegativeIntegers\n",
            "         (2, 8) :     0 :  10.0 :  None : False : False : NonNegativeIntegers\n",
            "         (2, 9) :     0 :  10.0 :  None : False : False : NonNegativeIntegers\n",
            "        (2, 10) :     0 :  10.0 :  None : False : False : NonNegativeIntegers\n",
            "        (2, 11) :     0 :  10.0 :  None : False : False : NonNegativeIntegers\n",
            "        (2, 12) :     0 :  10.0 :  None : False : False : NonNegativeIntegers\n",
            "\n",
            "  Objectives:\n",
            "    obj : Size=1, Index=None, Active=True\n",
            "        Key  : Active : Value\n",
            "        None :   True : 11900.0\n",
            "\n",
            "  Constraints:\n",
            "    const1 : Size=12\n",
            "        Key : Lower : Body : Upper\n",
            "          1 :  None : 10.0 :  10.0\n",
            "          2 :  None : 10.0 :  10.0\n",
            "          3 :  None : 10.0 :  10.0\n",
            "          4 :  None : 10.0 :  10.0\n",
            "          5 :  None : 10.0 :  10.0\n",
            "          6 :  None : 10.0 :  10.0\n",
            "          7 :  None : 10.0 :  10.0\n",
            "          8 :  None : 10.0 :  10.0\n",
            "          9 :  None : 10.0 :  10.0\n",
            "         10 :  None : 10.0 :  10.0\n",
            "         11 :  None : 10.0 :  10.0\n",
            "         12 :  None : 10.0 :  10.0\n",
            "    const2 : Size=1\n",
            "        Key  : Lower : Body  : Upper\n",
            "        None :  None : -75.5 :   0.0\n"
          ]
        }
      ]
    }
  ]
}