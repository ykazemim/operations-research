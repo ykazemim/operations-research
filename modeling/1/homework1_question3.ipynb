{
  "nbformat": 4,
  "nbformat_minor": 0,
  "metadata": {
    "colab": {
      "provenance": []
    },
    "kernelspec": {
      "name": "python3",
      "display_name": "Python 3"
    },
    "language_info": {
      "name": "python"
    }
  },
  "cells": [
    {
      "cell_type": "markdown",
      "source": [
        "# Question 3\n",
        "In the cutting stock problem discussed in the class slides, assume that the main lumber is 50 feet long. The cutting process works as follows: the 50-foot lumber is initially cut using the following patterns into 15-foot and 17-foot pieces:\n",
        "\n",
        "- Two 15-foot lumbers and one 17-foot lumber, along with a 3-foot piece.\n",
        "- Three 15-foot lumbers and one 5-foot piece.\n",
        "- One 15-foot lumber, two 17-foot lumbers, and a 1-foot waste piece.\n",
        "\n",
        "Then, the 15-foot and 17-foot lumbers are further cut into 3-foot, 5-foot, and 9-foot wooden pieces (two-stage cutting). The demand for 3-foot, 5-foot, and 9-foot wooden pieces is 25, 20, and 15, respectively. Any leftover cut piece (regardless of its size) is considered waste by the company.\n",
        "\n",
        "Formulate an optimization model that minimizes waste while meeting demand.\n"
      ],
      "metadata": {
        "id": "7KDf2S3oYL2W"
      }
    },
    {
      "cell_type": "code",
      "execution_count": 1,
      "metadata": {
        "id": "OYMu2lP-Unyr"
      },
      "outputs": [],
      "source": [
        "!pip install -q pyomo\n",
        "!apt-get install -y -qq glpk-utils"
      ]
    },
    {
      "cell_type": "code",
      "source": [
        "import pyomo.environ as pyo\n",
        "\n",
        "# Create model\n",
        "model = pyo.ConcreteModel()\n",
        "\n",
        "# Define index sets\n",
        "model.I = pyo.RangeSet(1, 3)  # Cutting designs for x\n",
        "model.J = pyo.RangeSet(1, 6)  # Cutting designs for y\n",
        "model.K = pyo.RangeSet(1, 6)  # Cutting designs for w\n",
        "\n",
        "# Define decision variables\n",
        "model.x = pyo.Var(model.I, domain=pyo.NonNegativeIntegers)\n",
        "model.y = pyo.Var(model.J, domain=pyo.NonNegativeIntegers)\n",
        "model.w = pyo.Var(model.K, domain=pyo.NonNegativeIntegers)\n",
        "\n",
        "# Define objective function\n",
        "def obj_rule(model):\n",
        "    return (\n",
        "        3 * (model.x[1] + 5 * model.y[1] + 3 * model.y[2] + 2 * model.y[3] + model.y[4] + 5 * model.w[1] + 4 * model.w[2] + 2 * model.w[3] + 2 * model.w[4] + model.w[5] - 25)\n",
        "        + 5 * (model.x[2] + model.y[2] + 2 * model.y[4] + model.y[5] + 3 * model.y[6] + model.w[2] + 2 * model.w[3] + model.w[5] + 3 * model.w[6] - 20)\n",
        "        + 9 * (model.y[3] + model.y[5] + model.w[4] + model.w[5] - 15)\n",
        "        + (model.x[3] + model.y[2] + 2 * model.y[4] + model.y[5] + 2 * model.w[1] + model.w[3] + 2 * model.w[4] + 2 * model.w[6])\n",
        "    )\n",
        "\n",
        "model.obj = pyo.Objective(rule=obj_rule, sense=pyo.minimize)\n",
        "\n",
        "# Define constraints\n",
        "model.c1 = pyo.Constraint(expr=sum(model.y[j] for j in model.J) == 2 * model.x[1] + 3 * model.x[2] + model.x[3])\n",
        "model.c2 = pyo.Constraint(expr=sum(model.w[k] for k in model.K) == model.x[1] + 2 * model.x[3])\n",
        "model.c3 = pyo.Constraint(expr=model.x[1] + 5 * model.y[1] + 3 * model.y[2] + 2 * model.y[3] + model.y[4] + 5 * model.w[1] + 4 * model.w[2] + 2 * model.w[3] + 2 * model.w[4] + model.w[5] >= 25)\n",
        "model.c4 = pyo.Constraint(expr=model.x[2] + model.y[2] + 2 * model.y[4] + model.y[5] + 3 * model.y[6] + model.w[2] + 2 * model.w[3] + model.w[5] + 3 * model.w[6] >= 20)\n",
        "model.c5 = pyo.Constraint(expr=model.y[3] + model.y[5] + model.w[4] + model.w[5] >= 15)\n",
        "\n",
        "\n",
        "# Create a solver and solve the model\n",
        "solver = pyo.SolverFactory('glpk')\n",
        "\n",
        "solution = solver.solve(model, tee=False)\n",
        "\n",
        "\n",
        "# Display the results\n",
        "model.display()\n",
        "\n",
        "# Display results manually\n",
        "# for i in model.I:\n",
        "#     print(f\"x[{i}] = {pyo.value(model.x[i])}\")\n",
        "# for j in model.J:\n",
        "#     print(f\"y[{j}] = {pyo.value(model.y[j])}\")\n",
        "# for k in model.K:\n",
        "#     print(f\"w[{k}] = {pyo.value(model.w[k])}\")"
      ],
      "metadata": {
        "colab": {
          "base_uri": "https://localhost:8080/"
        },
        "id": "V9XrdfAhUp6C",
        "outputId": "e6345d10-6ec3-44b1-e4a1-e0681fe6b41a"
      },
      "execution_count": 5,
      "outputs": [
        {
          "output_type": "stream",
          "name": "stdout",
          "text": [
            "Model unknown\n",
            "\n",
            "  Variables:\n",
            "    x : Size=3, Index=I\n",
            "        Key : Lower : Value : Upper : Fixed : Stale : Domain\n",
            "          1 :     0 :   0.0 :  None : False : False : NonNegativeIntegers\n",
            "          2 :     0 :   7.0 :  None : False : False : NonNegativeIntegers\n",
            "          3 :     0 :   0.0 :  None : False : False : NonNegativeIntegers\n",
            "    y : Size=6, Index=J\n",
            "        Key : Lower : Value : Upper : Fixed : Stale : Domain\n",
            "          1 :     0 :   0.0 :  None : False : False : NonNegativeIntegers\n",
            "          2 :     0 :   0.0 :  None : False : False : NonNegativeIntegers\n",
            "          3 :     0 :  11.0 :  None : False : False : NonNegativeIntegers\n",
            "          4 :     0 :   3.0 :  None : False : False : NonNegativeIntegers\n",
            "          5 :     0 :   7.0 :  None : False : False : NonNegativeIntegers\n",
            "          6 :     0 :   0.0 :  None : False : False : NonNegativeIntegers\n",
            "    w : Size=6, Index=K\n",
            "        Key : Lower : Value : Upper : Fixed : Stale : Domain\n",
            "          1 :     0 :   0.0 :  None : False : False : NonNegativeIntegers\n",
            "          2 :     0 :   0.0 :  None : False : False : NonNegativeIntegers\n",
            "          3 :     0 :   0.0 :  None : False : False : NonNegativeIntegers\n",
            "          4 :     0 :   0.0 :  None : False : False : NonNegativeIntegers\n",
            "          5 :     0 :   0.0 :  None : False : False : NonNegativeIntegers\n",
            "          6 :     0 :   0.0 :  None : False : False : NonNegativeIntegers\n",
            "\n",
            "  Objectives:\n",
            "    obj : Size=1, Index=None, Active=True\n",
            "        Key  : Active : Value\n",
            "        None :   True :  40.0\n",
            "\n",
            "  Constraints:\n",
            "    c1 : Size=1\n",
            "        Key  : Lower : Body : Upper\n",
            "        None :   0.0 :  0.0 :   0.0\n",
            "    c2 : Size=1\n",
            "        Key  : Lower : Body : Upper\n",
            "        None :   0.0 :  0.0 :   0.0\n",
            "    c3 : Size=1\n",
            "        Key  : Lower : Body : Upper\n",
            "        None :  25.0 : 25.0 :  None\n",
            "    c4 : Size=1\n",
            "        Key  : Lower : Body : Upper\n",
            "        None :  20.0 : 20.0 :  None\n",
            "    c5 : Size=1\n",
            "        Key  : Lower : Body : Upper\n",
            "        None :  15.0 : 18.0 :  None\n"
          ]
        }
      ]
    }
  ]
}